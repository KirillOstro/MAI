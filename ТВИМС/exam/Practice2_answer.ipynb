{
  "metadata": {
    "kernelspec": {
      "name": "python",
      "display_name": "Python (Pyodide)",
      "language": "python"
    },
    "language_info": {
      "codemirror_mode": {
        "name": "python",
        "version": 3
      },
      "file_extension": ".py",
      "mimetype": "text/x-python",
      "name": "python",
      "nbconvert_exporter": "python",
      "pygments_lexer": "ipython3",
      "version": "3.8"
    }
  },
  "nbformat_minor": 4,
  "nbformat": 4,
  "cells": [
    {
      "cell_type": "code",
      "source": "import pandas as pd\nimport matplotlib.pyplot as plt\nimport numpy as np\nimport random\nfrom scipy.stats import norm, iqr\nimport matplotlib",
      "metadata": {
        "trusted": true
      },
      "outputs": [],
      "execution_count": 9
    },
    {
      "cell_type": "code",
      "source": "x = [random.uniform(-31,32) for _ in range(100)]\ndata = pd.DataFrame(x,columns=['price'])",
      "metadata": {
        "trusted": true
      },
      "outputs": [],
      "execution_count": 12
    },
    {
      "cell_type": "code",
      "source": "data.describe() #- Описательная статистика",
      "metadata": {
        "trusted": true
      },
      "outputs": [
        {
          "execution_count": 14,
          "output_type": "execute_result",
          "data": {
            "text/plain": "            price\ncount  100.000000\nmean    -1.404640\nstd     17.553331\nmin    -30.593877\n25%    -16.653998\n50%     -1.412376\n75%     12.450381\nmax     31.318442",
            "text/html": "<div>\n<style scoped>\n    .dataframe tbody tr th:only-of-type {\n        vertical-align: middle;\n    }\n\n    .dataframe tbody tr th {\n        vertical-align: top;\n    }\n\n    .dataframe thead th {\n        text-align: right;\n    }\n</style>\n<table border=\"1\" class=\"dataframe\">\n  <thead>\n    <tr style=\"text-align: right;\">\n      <th></th>\n      <th>price</th>\n    </tr>\n  </thead>\n  <tbody>\n    <tr>\n      <th>count</th>\n      <td>100.000000</td>\n    </tr>\n    <tr>\n      <th>mean</th>\n      <td>-1.404640</td>\n    </tr>\n    <tr>\n      <th>std</th>\n      <td>17.553331</td>\n    </tr>\n    <tr>\n      <th>min</th>\n      <td>-30.593877</td>\n    </tr>\n    <tr>\n      <th>25%</th>\n      <td>-16.653998</td>\n    </tr>\n    <tr>\n      <th>50%</th>\n      <td>-1.412376</td>\n    </tr>\n    <tr>\n      <th>75%</th>\n      <td>12.450381</td>\n    </tr>\n    <tr>\n      <th>max</th>\n      <td>31.318442</td>\n    </tr>\n  </tbody>\n</table>\n</div>"
          },
          "metadata": {}
        }
      ],
      "execution_count": 14
    },
    {
      "cell_type": "code",
      "source": "#Вычислить IQR \nIQR = iqr(data[\"price\"])\n\n#Вычислить границы выбросов\nprice_max = data[\"price\"].quantile(0.75) + 1.5 * IQR\nprice_min = data[\"price\"].quantile(0.25) - 1.5 * IQR\nprint(price_min, \"< price <\", price_max)\n\nplt.boxplot(data[\"price\"])\nplt.title(\"price\")\nplt.show()",
      "metadata": {
        "trusted": true
      },
      "outputs": [
        {
          "name": "stdout",
          "text": "-60.31056735667978 < price < 56.106950806413266\n",
          "output_type": "stream"
        },
        {
          "output_type": "display_data",
          "data": {
            "text/plain": "<Figure size 640x480 with 1 Axes>",
            "image/png": "[encoded data removed]"
          },
          "metadata": {}
        }
      ],
      "execution_count": 16
    },
    {
      "cell_type": "code",
      "source": "",
      "metadata": {
        "trusted": true
      },
      "outputs": [],
      "execution_count": null
    }
  ]
}