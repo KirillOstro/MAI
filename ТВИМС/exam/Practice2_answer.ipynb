{
  "metadata": {
    "kernelspec": {
      "name": "python",
      "display_name": "Python (Pyodide)",
      "language": "python"
    },
    "language_info": {
      "codemirror_mode": {
        "name": "python",
        "version": 3
      },
      "file_extension": ".py",
      "mimetype": "text/x-python",
      "name": "python",
      "nbconvert_exporter": "python",
      "pygments_lexer": "ipython3",
      "version": "3.8"
    }
  },
  "nbformat_minor": 4,
  "nbformat": 4,
  "cells": [
    {
      "cell_type": "code",
      "source": "import pandas as pd\nimport matplotlib.pyplot as plt\nimport numpy as np\nfrom scipy.stats import norm, iqr\nimport seaborn as sns\nfrom pydantic_settings import BaseSettings\nfrom ydata_profiling import ProfileReport\nimport matplotlib",
      "metadata": {
        "trusted": true
      },
      "outputs": [],
      "execution_count": null
    },
    {
      "cell_type": "code",
      "source": "file_path = r\"D:\\Work\\Python\\AnalysisEDA\\Housing.csv\" \ndata = pd.read_csv(file_path) #Чтение данных csv\n",
      "metadata": {
        "trusted": true
      },
      "outputs": [],
      "execution_count": null
    },
    {
      "cell_type": "code",
      "source": "data.describe() - Описательная статистика",
      "metadata": {
        "trusted": true
      },
      "outputs": [],
      "execution_count": null
    },
    {
      "cell_type": "code",
      "source": "#Вычислить IQR \nIQR = iqr(data[\"price\"])\n\n#Вычислить границы выбросов\nprice_max = data[\"price\"].quantile(0.75) + 1.5 * price_IQR\nprice_min = data[\"price\"].quantile(0.25) - 1.5 * price_IQR\nprint(price_min, \"< price <\", price_max)\n\nplt.boxplot(data[\"price\"])\nplt.title(\"price\")\nplt.show()",
      "metadata": {
        "trusted": true
      },
      "outputs": [],
      "execution_count": null
    },
    {
      "cell_type": "code",
      "source": "",
      "metadata": {
        "trusted": true
      },
      "outputs": [],
      "execution_count": null
    }
  ]
}